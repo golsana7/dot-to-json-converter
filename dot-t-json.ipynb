{
 "cells": [
  {
   "cell_type": "code",
   "execution_count": 1,
   "metadata": {},
   "outputs": [
    {
     "ename": "ImportError",
     "evalue": "No module named betterast",
     "output_type": "error",
     "traceback": [
      "\u001b[0;31m---------------------------------------------------------------------------\u001b[0m",
      "\u001b[0;31mImportError\u001b[0m                               Traceback (most recent call last)",
      "\u001b[0;32m<ipython-input-1-257065f5429a>\u001b[0m in \u001b[0;36m<module>\u001b[0;34m()\u001b[0m\n\u001b[0;32m----> 1\u001b[0;31m \u001b[0;32mfrom\u001b[0m \u001b[0mdot_tools\u001b[0m \u001b[0;32mimport\u001b[0m \u001b[0mparse\u001b[0m\u001b[0;34m\u001b[0m\u001b[0m\n\u001b[0m",
      "\u001b[0;32m/Users/golsana/dot_tools/dot_tools/__init__.py\u001b[0m in \u001b[0;36m<module>\u001b[0;34m()\u001b[0m\n\u001b[1;32m      6\u001b[0m \u001b[0;34m\u001b[0m\u001b[0m\n\u001b[1;32m      7\u001b[0m \u001b[0;34m\u001b[0m\u001b[0m\n\u001b[0;32m----> 8\u001b[0;31m \u001b[0;32mimport\u001b[0m \u001b[0mdot_parser\u001b[0m\u001b[0;34m,\u001b[0m \u001b[0mdot_lexer\u001b[0m\u001b[0;34m\u001b[0m\u001b[0m\n\u001b[0m\u001b[1;32m      9\u001b[0m \u001b[0;34m\u001b[0m\u001b[0m\n\u001b[1;32m     10\u001b[0m \u001b[0;32mdef\u001b[0m \u001b[0mparse\u001b[0m\u001b[0;34m(\u001b[0m\u001b[0mstring\u001b[0m\u001b[0;34m)\u001b[0m\u001b[0;34m:\u001b[0m\u001b[0;34m\u001b[0m\u001b[0m\n",
      "\u001b[0;32m/Users/golsana/dot_tools/dot_tools/dot_parser.py\u001b[0m in \u001b[0;36m<module>\u001b[0;34m()\u001b[0m\n\u001b[1;32m      8\u001b[0m \u001b[0;32mfrom\u001b[0m \u001b[0mdot_lexer\u001b[0m \u001b[0;32mimport\u001b[0m \u001b[0mtokens\u001b[0m\u001b[0;34m,\u001b[0m \u001b[0mLexer\u001b[0m\u001b[0;34m\u001b[0m\u001b[0m\n\u001b[1;32m      9\u001b[0m \u001b[0;34m\u001b[0m\u001b[0m\n\u001b[0;32m---> 10\u001b[0;31m \u001b[0;32mfrom\u001b[0m \u001b[0mbetterast\u001b[0m \u001b[0;32mimport\u001b[0m \u001b[0mNode\u001b[0m\u001b[0;34m\u001b[0m\u001b[0m\n\u001b[0m\u001b[1;32m     11\u001b[0m \u001b[0;34m\u001b[0m\u001b[0m\n\u001b[1;32m     12\u001b[0m \u001b[0;34m\u001b[0m\u001b[0m\n",
      "\u001b[0;31mImportError\u001b[0m: No module named betterast"
     ]
    }
   ],
   "source": [
    "from dot_tools import parse"
   ]
  },
  {
   "cell_type": "code",
   "execution_count": 12,
   "metadata": {
    "collapsed": true
   },
   "outputs": [],
   "source": [
    "from dot_tools import parse"
   ]
  },
  {
   "cell_type": "code",
   "execution_count": 2,
   "metadata": {
    "collapsed": true
   },
   "outputs": [],
   "source": [
    "from dot_tools import parse\n"
   ]
  },
  {
   "cell_type": "code",
   "execution_count": 3,
   "metadata": {
    "collapsed": true
   },
   "outputs": [],
   "source": [
    "from dot_tools import parse"
   ]
  },
  {
   "cell_type": "code",
   "execution_count": 4,
   "metadata": {},
   "outputs": [
    {
     "name": "stdout",
     "output_type": "stream",
     "text": [
      "LexToken(ID,'am',1,25)\n"
     ]
    },
    {
     "ename": "SyntaxError",
     "evalue": "LexToken(ID,'am',1,25)",
     "output_type": "error",
     "traceback": [
      "\u001b[0;36m  File \u001b[0;32m\"<string>\"\u001b[0;36m, line \u001b[0;32munknown\u001b[0m\n\u001b[0;31mSyntaxError\u001b[0m\u001b[0;31m:\u001b[0m LexToken(ID,'am',1,25)\n"
     ]
    }
   ],
   "source": [
    "tree = parse('digraph { x [label=«b>I am an html label</b»] x -> y }')"
   ]
  },
  {
   "cell_type": "code",
   "execution_count": 5,
   "metadata": {
    "collapsed": true
   },
   "outputs": [],
   "source": [
    "tree = parse('digraph { x [label=<<b>I am an html label</b>>] x -> y }')"
   ]
  },
  {
   "cell_type": "code",
   "execution_count": 6,
   "metadata": {},
   "outputs": [
    {
     "name": "stdout",
     "output_type": "stream",
     "text": [
      "1:Graphs\n",
      "3:Graph\n",
      "0:digraph\n",
      "0:graph_1001\n",
      "2:Stmts\n",
      "1:Nodes\n",
      "2:Node\n",
      "0:x\n",
      "1:Attrs\n",
      "2:=\n",
      "0:label\n",
      "0:<b>I am an html label</b>\n",
      "1:Edges\n",
      "2:->\n",
      "0:x\n",
      "0:y\n"
     ]
    }
   ],
   "source": [
    "print tree"
   ]
  },
  {
   "cell_type": "code",
   "execution_count": 7,
   "metadata": {
    "collapsed": true
   },
   "outputs": [],
   "source": [
    "from dot_tools.dot_graph import SimpleGraph"
   ]
  },
  {
   "cell_type": "code",
   "execution_count": 8,
   "metadata": {
    "collapsed": true
   },
   "outputs": [],
   "source": [
    "g = SimpleGraph.build(tree.kid('Graph'))"
   ]
  },
  {
   "cell_type": "code",
   "execution_count": 9,
   "metadata": {},
   "outputs": [
    {
     "name": "stdout",
     "output_type": "stream",
     "text": [
      "{'y': {}, 'x': {'label': '<b>I am an html label</b>'}}\n"
     ]
    }
   ],
   "source": [
    "print g.nodes"
   ]
  },
  {
   "cell_type": "code",
   "execution_count": 10,
   "metadata": {},
   "outputs": [
    {
     "name": "stdout",
     "output_type": "stream",
     "text": [
      "[('x', 'y', '')]\n"
     ]
    }
   ],
   "source": [
    "print g.edges"
   ]
  },
  {
   "cell_type": "code",
   "execution_count": 11,
   "metadata": {
    "collapsed": true
   },
   "outputs": [],
   "source": [
    "with open (\"8.dot\", \"r\") as myfile:\n",
    "    data=myfile.readlines()"
   ]
  },
  {
   "cell_type": "code",
   "execution_count": 13,
   "metadata": {},
   "outputs": [
    {
     "name": "stdout",
     "output_type": "stream",
     "text": [
      "LexToken(ID,'data',1,0)\n"
     ]
    },
    {
     "ename": "SyntaxError",
     "evalue": "LexToken(ID,'data',1,0)",
     "output_type": "error",
     "traceback": [
      "\u001b[0;36m  File \u001b[0;32m\"<string>\"\u001b[0;36m, line \u001b[0;32munknown\u001b[0m\n\u001b[0;31mSyntaxError\u001b[0m\u001b[0;31m:\u001b[0m LexToken(ID,'data',1,0)\n"
     ]
    }
   ],
   "source": [
    "tree=parse('data')"
   ]
  },
  {
   "cell_type": "code",
   "execution_count": 14,
   "metadata": {
    "collapsed": true
   },
   "outputs": [],
   "source": [
    "from dot_tools import parse"
   ]
  },
  {
   "cell_type": "code",
   "execution_count": 15,
   "metadata": {},
   "outputs": [
    {
     "name": "stdout",
     "output_type": "stream",
     "text": [
      "LexToken(ID,'data',1,0)\n"
     ]
    },
    {
     "ename": "SyntaxError",
     "evalue": "LexToken(ID,'data',1,0)",
     "output_type": "error",
     "traceback": [
      "\u001b[0;36m  File \u001b[0;32m\"<string>\"\u001b[0;36m, line \u001b[0;32munknown\u001b[0m\n\u001b[0;31mSyntaxError\u001b[0m\u001b[0;31m:\u001b[0m LexToken(ID,'data',1,0)\n"
     ]
    }
   ],
   "source": [
    "tree=parse('data')\n"
   ]
  },
  {
   "cell_type": "code",
   "execution_count": 16,
   "metadata": {},
   "outputs": [
    {
     "name": "stdout",
     "output_type": "stream",
     "text": [
      "[' # 1 R: 3678 usecs \\n', 'Digraph {\\n', '\\ta499b6835d9c44979bf13cbd0da04f2b3 [label=\"wsgi:osapi_volume:START\"]\\n', '\\taa2bb666960584f2baf2dc718e266484f [label=\"rpc:cinder-scheduler:START\"]\\n', '\\ta698d3177ae9c448680d0a7024a55089c [label=\"rpc:cinder-volume:START\"]\\n', '\\ta9224bef7966c4684b3524931774e7a42 [label=\"driver:cinder-volume:START\"]\\n', '\\ta9224bef7966c4684b3524931774e7a42_E [label=\"driver:cinder-volume:END\"]\\n', '\\ta698d3177ae9c448680d0a7024a55089c_E [label=\"rpc:cinder-volume:END\"]\\n', '\\taa2bb666960584f2baf2dc718e266484f_E [label=\"rpc:cinder-scheduler:END\"]\\n', '\\ta499b6835d9c44979bf13cbd0da04f2b3_E [label=\"wsgi:osapi_volume:END\"]\\n', '\\taaa48c8417e3e43dcaf6d7f8a2cef1c85 [label=\"wsgi:osapi_volume:START\"]\\n', '\\taaa48c8417e3e43dcaf6d7f8a2cef1c85_E [label=\"wsgi:osapi_volume:END\"]\\n', '\\ta8e5d230089714845a41a6221429db35c [label=\"wsgi:osapi_volume:START\"]\\n', '\\ta8e5d230089714845a41a6221429db35c_E [label=\"wsgi:osapi_volume:END\"]\\n', '\\ta499b6835d9c44979bf13cbd0da04f2b3 -> aa2bb666960584f2baf2dc718e266484f [label=\"0:00:01.352002\"]\\n', '\\taa2bb666960584f2baf2dc718e266484f -> a698d3177ae9c448680d0a7024a55089c [label=\"0:00:00.315178\"]\\n', '\\ta698d3177ae9c448680d0a7024a55089c -> a9224bef7966c4684b3524931774e7a42 [label=\"0:00:00.343720\"]\\n', '\\ta9224bef7966c4684b3524931774e7a42 -> a9224bef7966c4684b3524931774e7a42_E [label=\"0:00:00.876920\"]\\n', '\\ta9224bef7966c4684b3524931774e7a42_E -> a698d3177ae9c448680d0a7024a55089c_E [label=\"0:00:00.144826\"]\\n', '\\ta698d3177ae9c448680d0a7024a55089c_E -> aa2bb666960584f2baf2dc718e266484f_E [label=\"-1 day, 23:59:58.624914\"]\\n', '\\taa2bb666960584f2baf2dc718e266484f_E -> a499b6835d9c44979bf13cbd0da04f2b3_E [label=\"-1 day, 23:59:59.708129\"]\\n', '\\ta499b6835d9c44979bf13cbd0da04f2b3_E -> aaa48c8417e3e43dcaf6d7f8a2cef1c85 [label=\"0:00:02.040393\"]\\n', '\\taaa48c8417e3e43dcaf6d7f8a2cef1c85 -> aaa48c8417e3e43dcaf6d7f8a2cef1c85_E [label=\"0:00:00.142320\"]\\n', '\\taaa48c8417e3e43dcaf6d7f8a2cef1c85_E -> a8e5d230089714845a41a6221429db35c [label=\"0:00:00.017613\"]\\n', '\\ta8e5d230089714845a41a6221429db35c -> a8e5d230089714845a41a6221429db35c_E [label=\"0:00:00.112220\"]\\n', '}\\n']\n"
     ]
    }
   ],
   "source": [
    "print(data)"
   ]
  },
  {
   "cell_type": "code",
   "execution_count": 17,
   "metadata": {
    "scrolled": true
   },
   "outputs": [
    {
     "ename": "ValueError",
     "evalue": "Expected a string",
     "output_type": "error",
     "traceback": [
      "\u001b[0;31m---------------------------------------------------------------------------\u001b[0m",
      "\u001b[0;31mValueError\u001b[0m                                Traceback (most recent call last)",
      "\u001b[0;32m<ipython-input-17-d43c65ddecd1>\u001b[0m in \u001b[0;36m<module>\u001b[0;34m()\u001b[0m\n\u001b[0;32m----> 1\u001b[0;31m \u001b[0mtree\u001b[0m\u001b[0;34m=\u001b[0m\u001b[0mparse\u001b[0m\u001b[0;34m(\u001b[0m\u001b[0mdata\u001b[0m\u001b[0;34m)\u001b[0m\u001b[0;34m\u001b[0m\u001b[0m\n\u001b[0m",
      "\u001b[0;32m/Users/golsana/dot_tools/dot_tools/__init__.pyc\u001b[0m in \u001b[0;36mparse\u001b[0;34m(string)\u001b[0m\n\u001b[1;32m      9\u001b[0m \u001b[0;34m\u001b[0m\u001b[0m\n\u001b[1;32m     10\u001b[0m \u001b[0;32mdef\u001b[0m \u001b[0mparse\u001b[0m\u001b[0;34m(\u001b[0m\u001b[0mstring\u001b[0m\u001b[0;34m)\u001b[0m\u001b[0;34m:\u001b[0m\u001b[0;34m\u001b[0m\u001b[0m\n\u001b[0;32m---> 11\u001b[0;31m     \u001b[0;32mreturn\u001b[0m \u001b[0mdot_parser\u001b[0m\u001b[0;34m.\u001b[0m\u001b[0mParser\u001b[0m\u001b[0;34m(\u001b[0m\u001b[0;34m)\u001b[0m\u001b[0;34m.\u001b[0m\u001b[0mparse\u001b[0m\u001b[0;34m(\u001b[0m\u001b[0mstring\u001b[0m\u001b[0;34m,\u001b[0m \u001b[0mlexer\u001b[0m\u001b[0;34m=\u001b[0m\u001b[0mdot_lexer\u001b[0m\u001b[0;34m.\u001b[0m\u001b[0mLexer\u001b[0m\u001b[0;34m(\u001b[0m\u001b[0;34m)\u001b[0m\u001b[0;34m)\u001b[0m\u001b[0;34m\u001b[0m\u001b[0m\n\u001b[0m\u001b[1;32m     12\u001b[0m \u001b[0;34m\u001b[0m\u001b[0m\n",
      "\u001b[0;32m/anaconda2/lib/python2.7/site-packages/ply/yacc.pyc\u001b[0m in \u001b[0;36mparse\u001b[0;34m(self, input, lexer, debug, tracking, tokenfunc)\u001b[0m\n\u001b[1;32m    329\u001b[0m             \u001b[0;32mreturn\u001b[0m \u001b[0mself\u001b[0m\u001b[0;34m.\u001b[0m\u001b[0mparseopt\u001b[0m\u001b[0;34m(\u001b[0m\u001b[0minput\u001b[0m\u001b[0;34m,\u001b[0m \u001b[0mlexer\u001b[0m\u001b[0;34m,\u001b[0m \u001b[0mdebug\u001b[0m\u001b[0;34m,\u001b[0m \u001b[0mtracking\u001b[0m\u001b[0;34m,\u001b[0m \u001b[0mtokenfunc\u001b[0m\u001b[0;34m)\u001b[0m\u001b[0;34m\u001b[0m\u001b[0m\n\u001b[1;32m    330\u001b[0m         \u001b[0;32melse\u001b[0m\u001b[0;34m:\u001b[0m\u001b[0;34m\u001b[0m\u001b[0m\n\u001b[0;32m--> 331\u001b[0;31m             \u001b[0;32mreturn\u001b[0m \u001b[0mself\u001b[0m\u001b[0;34m.\u001b[0m\u001b[0mparseopt_notrack\u001b[0m\u001b[0;34m(\u001b[0m\u001b[0minput\u001b[0m\u001b[0;34m,\u001b[0m \u001b[0mlexer\u001b[0m\u001b[0;34m,\u001b[0m \u001b[0mdebug\u001b[0m\u001b[0;34m,\u001b[0m \u001b[0mtracking\u001b[0m\u001b[0;34m,\u001b[0m \u001b[0mtokenfunc\u001b[0m\u001b[0;34m)\u001b[0m\u001b[0;34m\u001b[0m\u001b[0m\n\u001b[0m\u001b[1;32m    332\u001b[0m \u001b[0;34m\u001b[0m\u001b[0m\n\u001b[1;32m    333\u001b[0m \u001b[0;34m\u001b[0m\u001b[0m\n",
      "\u001b[0;32m/anaconda2/lib/python2.7/site-packages/ply/yacc.pyc\u001b[0m in \u001b[0;36mparseopt_notrack\u001b[0;34m(self, input, lexer, debug, tracking, tokenfunc)\u001b[0m\n\u001b[1;32m   1022\u001b[0m         \u001b[0;31m# If input was supplied, pass to lexer\u001b[0m\u001b[0;34m\u001b[0m\u001b[0;34m\u001b[0m\u001b[0m\n\u001b[1;32m   1023\u001b[0m         \u001b[0;32mif\u001b[0m \u001b[0minput\u001b[0m \u001b[0;32mis\u001b[0m \u001b[0;32mnot\u001b[0m \u001b[0mNone\u001b[0m\u001b[0;34m:\u001b[0m\u001b[0;34m\u001b[0m\u001b[0m\n\u001b[0;32m-> 1024\u001b[0;31m             \u001b[0mlexer\u001b[0m\u001b[0;34m.\u001b[0m\u001b[0minput\u001b[0m\u001b[0;34m(\u001b[0m\u001b[0minput\u001b[0m\u001b[0;34m)\u001b[0m\u001b[0;34m\u001b[0m\u001b[0m\n\u001b[0m\u001b[1;32m   1025\u001b[0m \u001b[0;34m\u001b[0m\u001b[0m\n\u001b[1;32m   1026\u001b[0m         \u001b[0;32mif\u001b[0m \u001b[0mtokenfunc\u001b[0m \u001b[0;32mis\u001b[0m \u001b[0mNone\u001b[0m\u001b[0;34m:\u001b[0m\u001b[0;34m\u001b[0m\u001b[0m\n",
      "\u001b[0;32m/anaconda2/lib/python2.7/site-packages/ply/lex.pyc\u001b[0m in \u001b[0;36minput\u001b[0;34m(self, s)\u001b[0m\n\u001b[1;32m    253\u001b[0m         \u001b[0mc\u001b[0m \u001b[0;34m=\u001b[0m \u001b[0ms\u001b[0m\u001b[0;34m[\u001b[0m\u001b[0;34m:\u001b[0m\u001b[0;36m1\u001b[0m\u001b[0;34m]\u001b[0m\u001b[0;34m\u001b[0m\u001b[0m\n\u001b[1;32m    254\u001b[0m         \u001b[0;32mif\u001b[0m \u001b[0;32mnot\u001b[0m \u001b[0misinstance\u001b[0m\u001b[0;34m(\u001b[0m\u001b[0mc\u001b[0m\u001b[0;34m,\u001b[0m \u001b[0mStringTypes\u001b[0m\u001b[0;34m)\u001b[0m\u001b[0;34m:\u001b[0m\u001b[0;34m\u001b[0m\u001b[0m\n\u001b[0;32m--> 255\u001b[0;31m             \u001b[0;32mraise\u001b[0m \u001b[0mValueError\u001b[0m\u001b[0;34m(\u001b[0m\u001b[0;34m'Expected a string'\u001b[0m\u001b[0;34m)\u001b[0m\u001b[0;34m\u001b[0m\u001b[0m\n\u001b[0m\u001b[1;32m    256\u001b[0m         \u001b[0mself\u001b[0m\u001b[0;34m.\u001b[0m\u001b[0mlexdata\u001b[0m \u001b[0;34m=\u001b[0m \u001b[0ms\u001b[0m\u001b[0;34m\u001b[0m\u001b[0m\n\u001b[1;32m    257\u001b[0m         \u001b[0mself\u001b[0m\u001b[0;34m.\u001b[0m\u001b[0mlexpos\u001b[0m \u001b[0;34m=\u001b[0m \u001b[0;36m0\u001b[0m\u001b[0;34m\u001b[0m\u001b[0m\n",
      "\u001b[0;31mValueError\u001b[0m: Expected a string"
     ]
    }
   ],
   "source": [
    "tree=parse(data)"
   ]
  },
  {
   "cell_type": "code",
   "execution_count": 18,
   "metadata": {
    "collapsed": true
   },
   "outputs": [],
   "source": [
    "with open (\"8.dot\", \"r\") as myfile:\n",
    "    data=myfile.read()"
   ]
  },
  {
   "cell_type": "code",
   "execution_count": 19,
   "metadata": {},
   "outputs": [
    {
     "name": "stdout",
     "output_type": "stream",
     "text": [
      "LexToken(ID,'Digraph',2,20)\n"
     ]
    },
    {
     "ename": "SyntaxError",
     "evalue": "LexToken(ID,'Digraph',2,20)",
     "output_type": "error",
     "traceback": [
      "\u001b[0;36m  File \u001b[0;32m\"<string>\"\u001b[0;36m, line \u001b[0;32munknown\u001b[0m\n\u001b[0;31mSyntaxError\u001b[0m\u001b[0;31m:\u001b[0m LexToken(ID,'Digraph',2,20)\n"
     ]
    }
   ],
   "source": [
    "tree=parse(data)"
   ]
  },
  {
   "cell_type": "code",
   "execution_count": 20,
   "metadata": {},
   "outputs": [
    {
     "name": "stdout",
     "output_type": "stream",
     "text": [
      " # 1 R: 3678 usecs \n",
      "Digraph {\n",
      "\ta499b6835d9c44979bf13cbd0da04f2b3 [label=\"wsgi:osapi_volume:START\"]\n",
      "\taa2bb666960584f2baf2dc718e266484f [label=\"rpc:cinder-scheduler:START\"]\n",
      "\ta698d3177ae9c448680d0a7024a55089c [label=\"rpc:cinder-volume:START\"]\n",
      "\ta9224bef7966c4684b3524931774e7a42 [label=\"driver:cinder-volume:START\"]\n",
      "\ta9224bef7966c4684b3524931774e7a42_E [label=\"driver:cinder-volume:END\"]\n",
      "\ta698d3177ae9c448680d0a7024a55089c_E [label=\"rpc:cinder-volume:END\"]\n",
      "\taa2bb666960584f2baf2dc718e266484f_E [label=\"rpc:cinder-scheduler:END\"]\n",
      "\ta499b6835d9c44979bf13cbd0da04f2b3_E [label=\"wsgi:osapi_volume:END\"]\n",
      "\taaa48c8417e3e43dcaf6d7f8a2cef1c85 [label=\"wsgi:osapi_volume:START\"]\n",
      "\taaa48c8417e3e43dcaf6d7f8a2cef1c85_E [label=\"wsgi:osapi_volume:END\"]\n",
      "\ta8e5d230089714845a41a6221429db35c [label=\"wsgi:osapi_volume:START\"]\n",
      "\ta8e5d230089714845a41a6221429db35c_E [label=\"wsgi:osapi_volume:END\"]\n",
      "\ta499b6835d9c44979bf13cbd0da04f2b3 -> aa2bb666960584f2baf2dc718e266484f [label=\"0:00:01.352002\"]\n",
      "\taa2bb666960584f2baf2dc718e266484f -> a698d3177ae9c448680d0a7024a55089c [label=\"0:00:00.315178\"]\n",
      "\ta698d3177ae9c448680d0a7024a55089c -> a9224bef7966c4684b3524931774e7a42 [label=\"0:00:00.343720\"]\n",
      "\ta9224bef7966c4684b3524931774e7a42 -> a9224bef7966c4684b3524931774e7a42_E [label=\"0:00:00.876920\"]\n",
      "\ta9224bef7966c4684b3524931774e7a42_E -> a698d3177ae9c448680d0a7024a55089c_E [label=\"0:00:00.144826\"]\n",
      "\ta698d3177ae9c448680d0a7024a55089c_E -> aa2bb666960584f2baf2dc718e266484f_E [label=\"-1 day, 23:59:58.624914\"]\n",
      "\taa2bb666960584f2baf2dc718e266484f_E -> a499b6835d9c44979bf13cbd0da04f2b3_E [label=\"-1 day, 23:59:59.708129\"]\n",
      "\ta499b6835d9c44979bf13cbd0da04f2b3_E -> aaa48c8417e3e43dcaf6d7f8a2cef1c85 [label=\"0:00:02.040393\"]\n",
      "\taaa48c8417e3e43dcaf6d7f8a2cef1c85 -> aaa48c8417e3e43dcaf6d7f8a2cef1c85_E [label=\"0:00:00.142320\"]\n",
      "\taaa48c8417e3e43dcaf6d7f8a2cef1c85_E -> a8e5d230089714845a41a6221429db35c [label=\"0:00:00.017613\"]\n",
      "\ta8e5d230089714845a41a6221429db35c -> a8e5d230089714845a41a6221429db35c_E [label=\"0:00:00.112220\"]\n",
      "}\n",
      "\n"
     ]
    }
   ],
   "source": [
    "print(data)"
   ]
  },
  {
   "cell_type": "code",
   "execution_count": 21,
   "metadata": {
    "collapsed": true
   },
   "outputs": [],
   "source": [
    "with open (\"8.dot\", \"r\") as myfile:\n",
    "    data=myfile.read()"
   ]
  },
  {
   "cell_type": "code",
   "execution_count": 22,
   "metadata": {
    "collapsed": true
   },
   "outputs": [],
   "source": [
    "tree=parse(data)"
   ]
  },
  {
   "cell_type": "code",
   "execution_count": 23,
   "metadata": {},
   "outputs": [
    {
     "name": "stdout",
     "output_type": "stream",
     "text": [
      "2:Graphs\n",
      "1:Comment\n",
      "0: 1 R: 3678 usecs \n",
      "3:Graph\n",
      "0:digraph\n",
      "0:graph_1001\n",
      "2:Stmts\n",
      "12:Nodes\n",
      "2:Node\n",
      "0:a499b6835d9c44979bf13cbd0da04f2b3\n",
      "1:Attrs\n",
      "2:=\n",
      "0:label\n",
      "0:wsgi:osapi_volume:START\n",
      "2:Node\n",
      "0:aa2bb666960584f2baf2dc718e266484f\n",
      "1:Attrs\n",
      "2:=\n",
      "0:label\n",
      "0:rpc:cinder-scheduler:START\n",
      "2:Node\n",
      "0:a698d3177ae9c448680d0a7024a55089c\n",
      "1:Attrs\n",
      "2:=\n",
      "0:label\n",
      "0:rpc:cinder-volume:START\n",
      "2:Node\n",
      "0:a9224bef7966c4684b3524931774e7a42\n",
      "1:Attrs\n",
      "2:=\n",
      "0:label\n",
      "0:driver:cinder-volume:START\n",
      "2:Node\n",
      "0:a9224bef7966c4684b3524931774e7a42_E\n",
      "1:Attrs\n",
      "2:=\n",
      "0:label\n",
      "0:driver:cinder-volume:END\n",
      "2:Node\n",
      "0:a698d3177ae9c448680d0a7024a55089c_E\n",
      "1:Attrs\n",
      "2:=\n",
      "0:label\n",
      "0:rpc:cinder-volume:END\n",
      "2:Node\n",
      "0:aa2bb666960584f2baf2dc718e266484f_E\n",
      "1:Attrs\n",
      "2:=\n",
      "0:label\n",
      "0:rpc:cinder-scheduler:END\n",
      "2:Node\n",
      "0:a499b6835d9c44979bf13cbd0da04f2b3_E\n",
      "1:Attrs\n",
      "2:=\n",
      "0:label\n",
      "0:wsgi:osapi_volume:END\n",
      "2:Node\n",
      "0:aaa48c8417e3e43dcaf6d7f8a2cef1c85\n",
      "1:Attrs\n",
      "2:=\n",
      "0:label\n",
      "0:wsgi:osapi_volume:START\n",
      "2:Node\n",
      "0:aaa48c8417e3e43dcaf6d7f8a2cef1c85_E\n",
      "1:Attrs\n",
      "2:=\n",
      "0:label\n",
      "0:wsgi:osapi_volume:END\n",
      "2:Node\n",
      "0:a8e5d230089714845a41a6221429db35c\n",
      "1:Attrs\n",
      "2:=\n",
      "0:label\n",
      "0:wsgi:osapi_volume:START\n",
      "2:Node\n",
      "0:a8e5d230089714845a41a6221429db35c_E\n",
      "1:Attrs\n",
      "2:=\n",
      "0:label\n",
      "0:wsgi:osapi_volume:END\n",
      "11:Edges\n",
      "3:->\n",
      "0:a499b6835d9c44979bf13cbd0da04f2b3\n",
      "0:aa2bb666960584f2baf2dc718e266484f\n",
      "1:Attrs\n",
      "2:=\n",
      "0:label\n",
      "0:0:00:01.352002\n",
      "3:->\n",
      "0:aa2bb666960584f2baf2dc718e266484f\n",
      "0:a698d3177ae9c448680d0a7024a55089c\n",
      "1:Attrs\n",
      "2:=\n",
      "0:label\n",
      "0:0:00:00.315178\n",
      "3:->\n",
      "0:a698d3177ae9c448680d0a7024a55089c\n",
      "0:a9224bef7966c4684b3524931774e7a42\n",
      "1:Attrs\n",
      "2:=\n",
      "0:label\n",
      "0:0:00:00.343720\n",
      "3:->\n",
      "0:a9224bef7966c4684b3524931774e7a42\n",
      "0:a9224bef7966c4684b3524931774e7a42_E\n",
      "1:Attrs\n",
      "2:=\n",
      "0:label\n",
      "0:0:00:00.876920\n",
      "3:->\n",
      "0:a9224bef7966c4684b3524931774e7a42_E\n",
      "0:a698d3177ae9c448680d0a7024a55089c_E\n",
      "1:Attrs\n",
      "2:=\n",
      "0:label\n",
      "0:0:00:00.144826\n",
      "3:->\n",
      "0:a698d3177ae9c448680d0a7024a55089c_E\n",
      "0:aa2bb666960584f2baf2dc718e266484f_E\n",
      "1:Attrs\n",
      "2:=\n",
      "0:label\n",
      "0:-1 day, 23:59:58.624914\n",
      "3:->\n",
      "0:aa2bb666960584f2baf2dc718e266484f_E\n",
      "0:a499b6835d9c44979bf13cbd0da04f2b3_E\n",
      "1:Attrs\n",
      "2:=\n",
      "0:label\n",
      "0:-1 day, 23:59:59.708129\n",
      "3:->\n",
      "0:a499b6835d9c44979bf13cbd0da04f2b3_E\n",
      "0:aaa48c8417e3e43dcaf6d7f8a2cef1c85\n",
      "1:Attrs\n",
      "2:=\n",
      "0:label\n",
      "0:0:00:02.040393\n",
      "3:->\n",
      "0:aaa48c8417e3e43dcaf6d7f8a2cef1c85\n",
      "0:aaa48c8417e3e43dcaf6d7f8a2cef1c85_E\n",
      "1:Attrs\n",
      "2:=\n",
      "0:label\n",
      "0:0:00:00.142320\n",
      "3:->\n",
      "0:aaa48c8417e3e43dcaf6d7f8a2cef1c85_E\n",
      "0:a8e5d230089714845a41a6221429db35c\n",
      "1:Attrs\n",
      "2:=\n",
      "0:label\n",
      "0:0:00:00.017613\n",
      "3:->\n",
      "0:a8e5d230089714845a41a6221429db35c\n",
      "0:a8e5d230089714845a41a6221429db35c_E\n",
      "1:Attrs\n",
      "2:=\n",
      "0:label\n",
      "0:0:00:00.112220\n"
     ]
    }
   ],
   "source": [
    "print(tree)"
   ]
  },
  {
   "cell_type": "code",
   "execution_count": 24,
   "metadata": {
    "collapsed": true
   },
   "outputs": [],
   "source": [
    "from dot_tools.dot_graph import SimpleGraph"
   ]
  },
  {
   "cell_type": "code",
   "execution_count": 25,
   "metadata": {
    "collapsed": true
   },
   "outputs": [],
   "source": [
    "g = SimpleGraph.build(tree.kid('Graph'))"
   ]
  },
  {
   "cell_type": "code",
   "execution_count": 26,
   "metadata": {},
   "outputs": [
    {
     "name": "stdout",
     "output_type": "stream",
     "text": [
      "{'aa2bb666960584f2baf2dc718e266484f': {'label': 'rpc:cinder-scheduler:START'}, 'a499b6835d9c44979bf13cbd0da04f2b3': {'label': 'wsgi:osapi_volume:START'}, 'aaa48c8417e3e43dcaf6d7f8a2cef1c85_E': {'label': 'wsgi:osapi_volume:END'}, 'a499b6835d9c44979bf13cbd0da04f2b3_E': {'label': 'wsgi:osapi_volume:END'}, 'a9224bef7966c4684b3524931774e7a42': {'label': 'driver:cinder-volume:START'}, 'a8e5d230089714845a41a6221429db35c_E': {'label': 'wsgi:osapi_volume:END'}, 'aa2bb666960584f2baf2dc718e266484f_E': {'label': 'rpc:cinder-scheduler:END'}, 'a8e5d230089714845a41a6221429db35c': {'label': 'wsgi:osapi_volume:START'}, 'a9224bef7966c4684b3524931774e7a42_E': {'label': 'driver:cinder-volume:END'}, 'a698d3177ae9c448680d0a7024a55089c': {'label': 'rpc:cinder-volume:START'}, 'aaa48c8417e3e43dcaf6d7f8a2cef1c85': {'label': 'wsgi:osapi_volume:START'}, 'a698d3177ae9c448680d0a7024a55089c_E': {'label': 'rpc:cinder-volume:END'}}\n"
     ]
    }
   ],
   "source": [
    "print g.nodes"
   ]
  },
  {
   "cell_type": "code",
   "execution_count": 27,
   "metadata": {},
   "outputs": [
    {
     "name": "stdout",
     "output_type": "stream",
     "text": [
      "[('a499b6835d9c44979bf13cbd0da04f2b3', 'aa2bb666960584f2baf2dc718e266484f', '0:00:01.352002'), ('aa2bb666960584f2baf2dc718e266484f', 'a698d3177ae9c448680d0a7024a55089c', '0:00:00.315178'), ('a698d3177ae9c448680d0a7024a55089c', 'a9224bef7966c4684b3524931774e7a42', '0:00:00.343720'), ('a9224bef7966c4684b3524931774e7a42', 'a9224bef7966c4684b3524931774e7a42_E', '0:00:00.876920'), ('a9224bef7966c4684b3524931774e7a42_E', 'a698d3177ae9c448680d0a7024a55089c_E', '0:00:00.144826'), ('a698d3177ae9c448680d0a7024a55089c_E', 'aa2bb666960584f2baf2dc718e266484f_E', '-1 day, 23:59:58.624914'), ('aa2bb666960584f2baf2dc718e266484f_E', 'a499b6835d9c44979bf13cbd0da04f2b3_E', '-1 day, 23:59:59.708129'), ('a499b6835d9c44979bf13cbd0da04f2b3_E', 'aaa48c8417e3e43dcaf6d7f8a2cef1c85', '0:00:02.040393'), ('aaa48c8417e3e43dcaf6d7f8a2cef1c85', 'aaa48c8417e3e43dcaf6d7f8a2cef1c85_E', '0:00:00.142320'), ('aaa48c8417e3e43dcaf6d7f8a2cef1c85_E', 'a8e5d230089714845a41a6221429db35c', '0:00:00.017613'), ('a8e5d230089714845a41a6221429db35c', 'a8e5d230089714845a41a6221429db35c_E', '0:00:00.112220')]\n"
     ]
    }
   ],
   "source": [
    "print g.edges"
   ]
  },
  {
   "cell_type": "code",
   "execution_count": 28,
   "metadata": {},
   "outputs": [
    {
     "data": {
      "text/plain": [
       "dict"
      ]
     },
     "execution_count": 28,
     "metadata": {},
     "output_type": "execute_result"
    }
   ],
   "source": [
    "type(g.nodes)"
   ]
  },
  {
   "cell_type": "code",
   "execution_count": 38,
   "metadata": {
    "collapsed": true
   },
   "outputs": [],
   "source": [
    "constant = ' \"id\":\"1\", \"fontcolor\":\"blue\",\"shape\":\"plaintext\",\"label\":\"Cluster ID: 1344\\\\nSpecific Mutation Type: Response time change\\\\nCost: 206331909\\\\nOverall Mutation Type: Originating_Cluster and_Response_Time_Change\\\\nCandidate originating clusters: \\\\n\\\\nAvg. response times: 42170 us ; 70959 us\\\\nStandard Deviations: 7580 us ; 13811 us\\\\nKS-Test2 P-value: 0.000\\\\nCluster likelihood: 0.0340 ; 0.0291\\\\nPercent makeup: 54 / 46\\\\nrequests: 7167 ; 6082\" '"
   ]
  },
  {
   "cell_type": "code",
   "execution_count": 39,
   "metadata": {},
   "outputs": [
    {
     "name": "stdout",
     "output_type": "stream",
     "text": [
      " \"id\":\"1\", \"fontcolor\":\"blue\",\"shape\":\"plaintext\",\"label\":\"Cluster ID: 1344\\nSpecific Mutation Type: Response time change\\nCost: 206331909\\nOverall Mutation Type: Originating_Cluster and_Response_Time_Change\\nCandidate originating clusters: \\n\\nAvg. response times: 42170 us ; 70959 us\\nStandard Deviations: 7580 us ; 13811 us\\nKS-Test2 P-value: 0.000\\nCluster likelihood: 0.0340 ; 0.0291\\nPercent makeup: 54 / 46\\nrequests: 7167 ; 6082\" \n"
     ]
    }
   ],
   "source": [
    "print(constant)"
   ]
  },
  {
   "cell_type": "code",
   "execution_count": 40,
   "metadata": {},
   "outputs": [
    {
     "name": "stdout",
     "output_type": "stream",
     "text": [
      "aa2bb666960584f2baf2dc718e266484f {'label': 'rpc:cinder-scheduler:START'}\n",
      "a499b6835d9c44979bf13cbd0da04f2b3 {'label': 'wsgi:osapi_volume:START'}\n",
      "aaa48c8417e3e43dcaf6d7f8a2cef1c85_E {'label': 'wsgi:osapi_volume:END'}\n",
      "a499b6835d9c44979bf13cbd0da04f2b3_E {'label': 'wsgi:osapi_volume:END'}\n",
      "a9224bef7966c4684b3524931774e7a42 {'label': 'driver:cinder-volume:START'}\n",
      "a8e5d230089714845a41a6221429db35c_E {'label': 'wsgi:osapi_volume:END'}\n",
      "aa2bb666960584f2baf2dc718e266484f_E {'label': 'rpc:cinder-scheduler:END'}\n",
      "a8e5d230089714845a41a6221429db35c {'label': 'wsgi:osapi_volume:START'}\n",
      "a9224bef7966c4684b3524931774e7a42_E {'label': 'driver:cinder-volume:END'}\n",
      "a698d3177ae9c448680d0a7024a55089c {'label': 'rpc:cinder-volume:START'}\n",
      "aaa48c8417e3e43dcaf6d7f8a2cef1c85 {'label': 'wsgi:osapi_volume:START'}\n",
      "a698d3177ae9c448680d0a7024a55089c_E {'label': 'rpc:cinder-volume:END'}\n"
     ]
    }
   ],
   "source": [
    "for key, value in g.nodes.iteritems() :\n",
    "    print key, value"
   ]
  },
  {
   "cell_type": "code",
   "execution_count": 41,
   "metadata": {},
   "outputs": [
    {
     "name": "stdout",
     "output_type": "stream",
     "text": [
      "('aa2bb666960584f2baf2dc718e266484f', {'label': 'rpc:cinder-scheduler:START'})\n",
      "('a499b6835d9c44979bf13cbd0da04f2b3', {'label': 'wsgi:osapi_volume:START'})\n",
      "('aaa48c8417e3e43dcaf6d7f8a2cef1c85_E', {'label': 'wsgi:osapi_volume:END'})\n",
      "('a499b6835d9c44979bf13cbd0da04f2b3_E', {'label': 'wsgi:osapi_volume:END'})\n",
      "('a9224bef7966c4684b3524931774e7a42', {'label': 'driver:cinder-volume:START'})\n",
      "('a8e5d230089714845a41a6221429db35c_E', {'label': 'wsgi:osapi_volume:END'})\n",
      "('aa2bb666960584f2baf2dc718e266484f_E', {'label': 'rpc:cinder-scheduler:END'})\n",
      "('a8e5d230089714845a41a6221429db35c', {'label': 'wsgi:osapi_volume:START'})\n",
      "('a9224bef7966c4684b3524931774e7a42_E', {'label': 'driver:cinder-volume:END'})\n",
      "('a698d3177ae9c448680d0a7024a55089c', {'label': 'rpc:cinder-volume:START'})\n",
      "('aaa48c8417e3e43dcaf6d7f8a2cef1c85', {'label': 'wsgi:osapi_volume:START'})\n",
      "('a698d3177ae9c448680d0a7024a55089c_E', {'label': 'rpc:cinder-volume:END'})\n"
     ]
    }
   ],
   "source": [
    "for key in g.nodes.iteritems() :\n",
    "    print key"
   ]
  },
  {
   "cell_type": "code",
   "execution_count": 42,
   "metadata": {},
   "outputs": [
    {
     "name": "stdout",
     "output_type": "stream",
     "text": [
      "('aa2bb666960584f2baf2dc718e266484f', {'label': 'rpc:cinder-scheduler:START'})\n",
      "('a499b6835d9c44979bf13cbd0da04f2b3', {'label': 'wsgi:osapi_volume:START'})\n",
      "('aaa48c8417e3e43dcaf6d7f8a2cef1c85_E', {'label': 'wsgi:osapi_volume:END'})\n",
      "('a499b6835d9c44979bf13cbd0da04f2b3_E', {'label': 'wsgi:osapi_volume:END'})\n",
      "('a9224bef7966c4684b3524931774e7a42', {'label': 'driver:cinder-volume:START'})\n",
      "('a8e5d230089714845a41a6221429db35c_E', {'label': 'wsgi:osapi_volume:END'})\n",
      "('aa2bb666960584f2baf2dc718e266484f_E', {'label': 'rpc:cinder-scheduler:END'})\n",
      "('a8e5d230089714845a41a6221429db35c', {'label': 'wsgi:osapi_volume:START'})\n",
      "('a9224bef7966c4684b3524931774e7a42_E', {'label': 'driver:cinder-volume:END'})\n",
      "('a698d3177ae9c448680d0a7024a55089c', {'label': 'rpc:cinder-volume:START'})\n",
      "('aaa48c8417e3e43dcaf6d7f8a2cef1c85', {'label': 'wsgi:osapi_volume:START'})\n",
      "('a698d3177ae9c448680d0a7024a55089c_E', {'label': 'rpc:cinder-volume:END'})\n"
     ]
    }
   ],
   "source": [
    "for value in g.nodes.iteritems() :\n",
    "    print value"
   ]
  },
  {
   "cell_type": "code",
   "execution_count": 43,
   "metadata": {},
   "outputs": [
    {
     "name": "stdout",
     "output_type": "stream",
     "text": [
      "['aa2bb666960584f2baf2dc718e266484f', 'a499b6835d9c44979bf13cbd0da04f2b3', 'aaa48c8417e3e43dcaf6d7f8a2cef1c85_E', 'a499b6835d9c44979bf13cbd0da04f2b3_E', 'a9224bef7966c4684b3524931774e7a42', 'a8e5d230089714845a41a6221429db35c_E', 'aa2bb666960584f2baf2dc718e266484f_E', 'a8e5d230089714845a41a6221429db35c', 'a9224bef7966c4684b3524931774e7a42_E', 'a698d3177ae9c448680d0a7024a55089c', 'aaa48c8417e3e43dcaf6d7f8a2cef1c85', 'a698d3177ae9c448680d0a7024a55089c_E']\n"
     ]
    }
   ],
   "source": [
    "print(g.nodes.keys()) #prints keys"
   ]
  },
  {
   "cell_type": "code",
   "execution_count": 44,
   "metadata": {
    "collapsed": true
   },
   "outputs": [],
   "source": [
    "keys=g.nodes.keys()"
   ]
  },
  {
   "cell_type": "code",
   "execution_count": 45,
   "metadata": {},
   "outputs": [
    {
     "name": "stdout",
     "output_type": "stream",
     "text": [
      "aa2bb666960584f2baf2dc718e266484f\n"
     ]
    }
   ],
   "source": [
    "print keys[0]"
   ]
  },
  {
   "cell_type": "code",
   "execution_count": 46,
   "metadata": {},
   "outputs": [
    {
     "name": "stdout",
     "output_type": "stream",
     "text": [
      "a499b6835d9c44979bf13cbd0da04f2b3\n"
     ]
    }
   ],
   "source": [
    "print keys[1]"
   ]
  },
  {
   "cell_type": "code",
   "execution_count": 51,
   "metadata": {},
   "outputs": [
    {
     "name": "stdout",
     "output_type": "stream",
     "text": [
      "{'label': 'wsgi:osapi_volume:START'}\n"
     ]
    }
   ],
   "source": [
    "print g.nodes[keys[1]]"
   ]
  },
  {
   "cell_type": "code",
   "execution_count": 105,
   "metadata": {
    "collapsed": true
   },
   "outputs": [],
   "source": [
    "# Open a file\n",
    "fo = open(\"foo.txt\", \"w+\")\n",
    "#print \"Name of the file: \", fo.name\n",
    "fo.write( \"Python is a great language.\\nYeah its great!!\\n\");\n",
    "fo.write('{  \"nodes\": [')\n",
    "fo.write('\\n')\n",
    "fo.write('\\t')\n",
    "fo.write('{' + constant+'}'+'\\n')\n",
    "fo.write(' ,{\"id\":\"'+ keys[0] + '\", \"label\":\"'+g.nodes[keys[1]]['label']+'\"}\\n')\n",
    "#fo.write(g.nodes[keys[0]])\n",
    "# Close opend file\n",
    "fo.close()"
   ]
  },
  {
   "cell_type": "code",
   "execution_count": 89,
   "metadata": {},
   "outputs": [
    {
     "data": {
      "text/plain": [
       "dict"
      ]
     },
     "execution_count": 89,
     "metadata": {},
     "output_type": "execute_result"
    }
   ],
   "source": [
    "type(g.nodes[keys[1]])"
   ]
  },
  {
   "cell_type": "code",
   "execution_count": 86,
   "metadata": {},
   "outputs": [
    {
     "name": "stdout",
     "output_type": "stream",
     "text": [
      "label:\n"
     ]
    }
   ],
   "source": []
  },
  {
   "cell_type": "code",
   "execution_count": 123,
   "metadata": {
    "collapsed": true
   },
   "outputs": [],
   "source": [
    "import json\n",
    "# Open a file\n",
    "fo = open(\"foo.json\", \"w+\")\n",
    "#fo.write('{  \"nodes\": [ \\n\\t')\n",
    "#fo.write('\\n')\n",
    "#fo.write('\\t')\n",
    "#fo.write('{  \"nodes\": [ \\n\\t{' + constant+'}'+'\\n')\n",
    "#print json.dumps([{'id': k, 'label': v['label']} for k,v in g.nodes.items()], indent=4)\n",
    "#fo.write(json.dumps([{'id': k, 'label': v['label']} for k,v in g.nodes.items()], indent=4))\n",
    "temp = json.dumps([{'id': k, 'label': v['label']} for k,v in g.nodes.items()], indent=4)\n",
    "fixed = temp [1:]\n",
    "#fo.write(fixed)\n",
    "fo.write('{  \"nodes\": [ \\n\\t{' + constant+'}'+'\\n' + fixed)\n",
    "# Close opend file\n",
    "fo.close()\n"
   ]
  },
  {
   "cell_type": "code",
   "execution_count": 102,
   "metadata": {},
   "outputs": [
    {
     "name": "stdout",
     "output_type": "stream",
     "text": [
      "wsgi:osapi_volume:START\n"
     ]
    }
   ],
   "source": [
    "print g.nodes[keys[1]]['label']"
   ]
  },
  {
   "cell_type": "code",
   "execution_count": 103,
   "metadata": {},
   "outputs": [
    {
     "data": {
      "text/plain": [
       "str"
      ]
     },
     "execution_count": 103,
     "metadata": {},
     "output_type": "execute_result"
    }
   ],
   "source": [
    "type(g.nodes[keys[1]]['label'])"
   ]
  },
  {
   "cell_type": "code",
   "execution_count": 124,
   "metadata": {},
   "outputs": [
    {
     "data": {
      "text/plain": [
       "list"
      ]
     },
     "execution_count": 124,
     "metadata": {},
     "output_type": "execute_result"
    }
   ],
   "source": [
    "type(g.edges)"
   ]
  },
  {
   "cell_type": "code",
   "execution_count": 125,
   "metadata": {},
   "outputs": [
    {
     "name": "stdout",
     "output_type": "stream",
     "text": [
      "('a499b6835d9c44979bf13cbd0da04f2b3', 'aa2bb666960584f2baf2dc718e266484f', '0:00:01.352002')\n"
     ]
    }
   ],
   "source": [
    "print g.edges[0][0]"
   ]
  },
  {
   "cell_type": "code",
   "execution_count": 126,
   "metadata": {},
   "outputs": [
    {
     "name": "stdout",
     "output_type": "stream",
     "text": [
      "a499b6835d9c44979bf13cbd0da04f2b3\n"
     ]
    }
   ],
   "source": [
    "print g.edges[0][0]"
   ]
  },
  {
   "cell_type": "code",
   "execution_count": 127,
   "metadata": {},
   "outputs": [
    {
     "name": "stdout",
     "output_type": "stream",
     "text": [
      "aa2bb666960584f2baf2dc718e266484f\n"
     ]
    }
   ],
   "source": [
    "print g.edges[0][1]"
   ]
  },
  {
   "cell_type": "code",
   "execution_count": 129,
   "metadata": {},
   "outputs": [
    {
     "name": "stdout",
     "output_type": "stream",
     "text": [
      "0:00:01.352002\n"
     ]
    }
   ],
   "source": [
    "print g.edges[0][2]"
   ]
  },
  {
   "cell_type": "code",
   "execution_count": 130,
   "metadata": {},
   "outputs": [
    {
     "data": {
      "text/plain": [
       "str"
      ]
     },
     "execution_count": 130,
     "metadata": {},
     "output_type": "execute_result"
    }
   ],
   "source": [
    "type(g.edges[0][2])"
   ]
  },
  {
   "cell_type": "code",
   "execution_count": 141,
   "metadata": {},
   "outputs": [
    {
     "ename": "TypeError",
     "evalue": "list indices must be integers, not tuple",
     "output_type": "error",
     "traceback": [
      "\u001b[0;31m---------------------------------------------------------------------------\u001b[0m",
      "\u001b[0;31mTypeError\u001b[0m                                 Traceback (most recent call last)",
      "\u001b[0;32m<ipython-input-141-4a816e51b741>\u001b[0m in \u001b[0;36m<module>\u001b[0;34m()\u001b[0m\n\u001b[1;32m      1\u001b[0m \u001b[0;32mfor\u001b[0m \u001b[0mitem\u001b[0m \u001b[0;32min\u001b[0m \u001b[0menumerate\u001b[0m\u001b[0;34m(\u001b[0m\u001b[0mg\u001b[0m\u001b[0;34m.\u001b[0m\u001b[0medges\u001b[0m\u001b[0;34m)\u001b[0m\u001b[0;34m:\u001b[0m\u001b[0;34m\u001b[0m\u001b[0m\n\u001b[0;32m----> 2\u001b[0;31m     \u001b[0;32mprint\u001b[0m \u001b[0;34m(\u001b[0m\u001b[0;34m\"from = \"\u001b[0m \u001b[0;34m+\u001b[0m \u001b[0mg\u001b[0m\u001b[0;34m.\u001b[0m\u001b[0medges\u001b[0m\u001b[0;34m[\u001b[0m\u001b[0mitem\u001b[0m\u001b[0;34m]\u001b[0m\u001b[0;34m[\u001b[0m\u001b[0;36m0\u001b[0m\u001b[0;34m]\u001b[0m\u001b[0;34m)\u001b[0m\u001b[0;34m\u001b[0m\u001b[0m\n\u001b[0m",
      "\u001b[0;31mTypeError\u001b[0m: list indices must be integers, not tuple"
     ]
    }
   ],
   "source": [
    "for item in enumerate(g.edges):\n",
    "    print (\"from = \" + g.edges[item][0])\n",
    "    print (\"from = \" + g.edges[item][1])\n",
    "    print (\"from = \" + g.edges[item][2])"
   ]
  },
  {
   "cell_type": "code",
   "execution_count": 160,
   "metadata": {},
   "outputs": [
    {
     "name": "stdout",
     "output_type": "stream",
     "text": [
      "\n",
      "    {\n",
      "        \"color\": \"black\", \n",
      "        \"to\": \"aa2bb666960584f2baf2dc718e266484f\", \n",
      "        \"from\": \"a499b6835d9c44979bf13cbd0da04f2b3\", \n",
      "        \"label\": \"p:1.00\\n   a: 8us / 8us\\n   s: 2us / 2us0:00:01.352002\"\n",
      "    }, \n",
      "    {\n",
      "        \"color\": \"black\", \n",
      "        \"to\": \"a698d3177ae9c448680d0a7024a55089c\", \n",
      "        \"from\": \"aa2bb666960584f2baf2dc718e266484f\", \n",
      "        \"label\": \"p:1.00\\n   a: 8us / 8us\\n   s: 2us / 2us0:00:00.315178\"\n",
      "    }, \n",
      "    {\n",
      "        \"color\": \"black\", \n",
      "        \"to\": \"a9224bef7966c4684b3524931774e7a42\", \n",
      "        \"from\": \"a698d3177ae9c448680d0a7024a55089c\", \n",
      "        \"label\": \"p:1.00\\n   a: 8us / 8us\\n   s: 2us / 2us0:00:00.343720\"\n",
      "    }, \n",
      "    {\n",
      "        \"color\": \"black\", \n",
      "        \"to\": \"a9224bef7966c4684b3524931774e7a42_E\", \n",
      "        \"from\": \"a9224bef7966c4684b3524931774e7a42\", \n",
      "        \"label\": \"p:1.00\\n   a: 8us / 8us\\n   s: 2us / 2us0:00:00.876920\"\n",
      "    }, \n",
      "    {\n",
      "        \"color\": \"black\", \n",
      "        \"to\": \"a698d3177ae9c448680d0a7024a55089c_E\", \n",
      "        \"from\": \"a9224bef7966c4684b3524931774e7a42_E\", \n",
      "        \"label\": \"p:1.00\\n   a: 8us / 8us\\n   s: 2us / 2us0:00:00.144826\"\n",
      "    }, \n",
      "    {\n",
      "        \"color\": \"black\", \n",
      "        \"to\": \"aa2bb666960584f2baf2dc718e266484f_E\", \n",
      "        \"from\": \"a698d3177ae9c448680d0a7024a55089c_E\", \n",
      "        \"label\": \"p:1.00\\n   a: 8us / 8us\\n   s: 2us / 2us-1 day, 23:59:58.624914\"\n",
      "    }, \n",
      "    {\n",
      "        \"color\": \"black\", \n",
      "        \"to\": \"a499b6835d9c44979bf13cbd0da04f2b3_E\", \n",
      "        \"from\": \"aa2bb666960584f2baf2dc718e266484f_E\", \n",
      "        \"label\": \"p:1.00\\n   a: 8us / 8us\\n   s: 2us / 2us-1 day, 23:59:59.708129\"\n",
      "    }, \n",
      "    {\n",
      "        \"color\": \"black\", \n",
      "        \"to\": \"aaa48c8417e3e43dcaf6d7f8a2cef1c85\", \n",
      "        \"from\": \"a499b6835d9c44979bf13cbd0da04f2b3_E\", \n",
      "        \"label\": \"p:1.00\\n   a: 8us / 8us\\n   s: 2us / 2us0:00:02.040393\"\n",
      "    }, \n",
      "    {\n",
      "        \"color\": \"black\", \n",
      "        \"to\": \"aaa48c8417e3e43dcaf6d7f8a2cef1c85_E\", \n",
      "        \"from\": \"aaa48c8417e3e43dcaf6d7f8a2cef1c85\", \n",
      "        \"label\": \"p:1.00\\n   a: 8us / 8us\\n   s: 2us / 2us0:00:00.142320\"\n",
      "    }, \n",
      "    {\n",
      "        \"color\": \"black\", \n",
      "        \"to\": \"a8e5d230089714845a41a6221429db35c\", \n",
      "        \"from\": \"aaa48c8417e3e43dcaf6d7f8a2cef1c85_E\", \n",
      "        \"label\": \"p:1.00\\n   a: 8us / 8us\\n   s: 2us / 2us0:00:00.017613\"\n",
      "    }, \n",
      "    {\n",
      "        \"color\": \"black\", \n",
      "        \"to\": \"a8e5d230089714845a41a6221429db35c_E\", \n",
      "        \"from\": \"a8e5d230089714845a41a6221429db35c\", \n",
      "        \"label\": \"p:1.00\\n   a: 8us / 8us\\n   s: 2us / 2us0:00:00.112220\"\n",
      "    }\n",
      "]\n"
     ]
    }
   ],
   "source": [
    "import json\n",
    "\n",
    "fo = open(\"foo.json\", \"w+\")\n",
    "temp = json.dumps([{'id': k, 'label': v['label']} for k,v in g.nodes.items()], indent=4)\n",
    "fixed = temp [1:]\n",
    "fo.write('{  \"nodes\": [ \\n\\t{' + constant+'}'+'\\n' + fixed+',' )\n",
    "tmp = json.dumps([{'from': x, 'to': y,'color':\"black\" ,'label':\"p:1.00\\n   a: 8us / 8us\\n   s: 2us / 2us\" + z,} for x,y,z in g.edges], indent=4)\n",
    "fixedd = tmp [1:]\n",
    "print fixedd\n",
    "fo.write(' \\n\"edges\": [ \\n\\t' + fixedd)\n",
    "fo.close()\n"
   ]
  },
  {
   "cell_type": "code",
   "execution_count": 151,
   "metadata": {
    "collapsed": true
   },
   "outputs": [],
   "source": [
    "constant_2 = '\"color\":\"black\",\"label\":\"p:1.00\\n '"
   ]
  },
  {
   "cell_type": "code",
   "execution_count": 152,
   "metadata": {},
   "outputs": [
    {
     "name": "stdout",
     "output_type": "stream",
     "text": [
      "\"color\":\"black\",\"label\":\"p:1.00\n",
      " \n"
     ]
    }
   ],
   "source": [
    "print constant_2"
   ]
  },
  {
   "cell_type": "code",
   "execution_count": 161,
   "metadata": {},
   "outputs": [
    {
     "data": {
      "text/plain": [
       "str"
      ]
     },
     "execution_count": 161,
     "metadata": {},
     "output_type": "execute_result"
    }
   ],
   "source": [
    "type(data)"
   ]
  },
  {
   "cell_type": "code",
   "execution_count": null,
   "metadata": {
    "collapsed": true
   },
   "outputs": [],
   "source": []
  }
 ],
 "metadata": {
  "kernelspec": {
   "display_name": "Python 2",
   "language": "python",
   "name": "python2"
  },
  "language_info": {
   "codemirror_mode": {
    "name": "ipython",
    "version": 2
   },
   "file_extension": ".py",
   "mimetype": "text/x-python",
   "name": "python",
   "nbconvert_exporter": "python",
   "pygments_lexer": "ipython2",
   "version": "2.7.14"
  }
 },
 "nbformat": 4,
 "nbformat_minor": 2
}
