{
 "cells": [
  {
   "cell_type": "code",
   "execution_count": 6,
   "metadata": {
    "collapsed": true
   },
   "outputs": [],
   "source": [
    "from dot_tools import parse\n",
    "with open (\"8.dot\", \"r\") as myfile:\n",
    "    data=myfile.read()\n",
    "    "
   ]
  },
  {
   "cell_type": "code",
   "execution_count": 9,
   "metadata": {},
   "outputs": [],
   "source": [
    "data = data.replace(\"Digraph\",\"digraph\")"
   ]
  },
  {
   "cell_type": "code",
   "execution_count": 10,
   "metadata": {
    "collapsed": true
   },
   "outputs": [],
   "source": [
    "tree=parse(data)"
   ]
  },
  {
   "cell_type": "code",
   "execution_count": 11,
   "metadata": {
    "collapsed": true
   },
   "outputs": [],
   "source": [
    "from dot_tools.dot_graph import SimpleGraph"
   ]
  },
  {
   "cell_type": "code",
   "execution_count": 12,
   "metadata": {
    "collapsed": true
   },
   "outputs": [],
   "source": [
    "g = SimpleGraph.build(tree.kid('Graph'))"
   ]
  },
  {
   "cell_type": "code",
   "execution_count": 13,
   "metadata": {
    "collapsed": true
   },
   "outputs": [],
   "source": [
    "constant = ' \"id\":\"1\", \"fontcolor\":\"blue\",\"shape\":\"plaintext\",\"label\":\"Cluster ID: 1344\\\\nSpecific Mutation Type: Response time change\\\\nCost: 206331909\\\\nOverall Mutation Type: Originating_Cluster and_Response_Time_Change\\\\nCandidate originating clusters: \\\\n\\\\nAvg. response times: 42170 us ; 70959 us\\\\nStandard Deviations: 7580 us ; 13811 us\\\\nKS-Test2 P-value: 0.000\\\\nCluster likelihood: 0.0340 ; 0.0291\\\\nPercent makeup: 54 / 46\\\\nrequests: 7167 ; 6082\" '"
   ]
  },
  {
   "cell_type": "code",
   "execution_count": 16,
   "metadata": {},
   "outputs": [],
   "source": [
    "import json\n",
    "\n",
    "fo = open(\"8.json\", \"w+\")\n",
    "temp = json.dumps([{'id': k, 'label': v['label']} for k,v in g.nodes.items()], indent=4)\n",
    "fixed = temp [1:]\n",
    "fo.write('{  \"nodes\": [ \\n\\t{' + constant+'}'+'\\n' + fixed+',' )\n",
    "tmp = json.dumps([{'from': x, 'to': y,'color':\"black\" ,'label':\"p:1.00\\n   a: 8us / 8us\\n   s: 2us / 2us\" , 'time' : z,} for x,y,z in g.edges], indent=4)\n",
    "fixedd = tmp [1:]\n",
    "#print fixedd\n",
    "fo.write(' \\n\"edges\": [ \\n\\t' + fixedd)\n",
    "fo.close()"
   ]
  },
  {
   "cell_type": "code",
   "execution_count": null,
   "metadata": {
    "collapsed": true
   },
   "outputs": [],
   "source": []
  }
 ],
 "metadata": {
  "kernelspec": {
   "display_name": "Python 2",
   "language": "python",
   "name": "python2"
  },
  "language_info": {
   "codemirror_mode": {
    "name": "ipython",
    "version": 2
   },
   "file_extension": ".py",
   "mimetype": "text/x-python",
   "name": "python",
   "nbconvert_exporter": "python",
   "pygments_lexer": "ipython2",
   "version": "2.7.14"
  }
 },
 "nbformat": 4,
 "nbformat_minor": 2
}
